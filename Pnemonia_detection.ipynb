{
  "nbformat": 4,
  "nbformat_minor": 0,
  "metadata": {
    "colab": {
      "name": "Pnemonia_detection.ipynb",
      "version": "0.3.2",
      "provenance": [],
      "collapsed_sections": [],
      "include_colab_link": true
    },
    "kernelspec": {
      "name": "python3",
      "display_name": "Python 3"
    },
    "accelerator": "TPU"
  },
  "cells": [
    {
      "cell_type": "markdown",
      "metadata": {
        "id": "view-in-github",
        "colab_type": "text"
      },
      "source": [
        "<a href=\"https://colab.research.google.com/github/deekshitha16/pneumonia-detection-on-x_ray-image/blob/master/Pnemonia_detection.ipynb\" target=\"_parent\"><img src=\"https://colab.research.google.com/assets/colab-badge.svg\" alt=\"Open In Colab\"/></a>"
      ]
    },
    {
      "cell_type": "code",
      "metadata": {
        "id": "BcZIhHd5sJ_4",
        "colab_type": "code",
        "outputId": "c3ce8b5e-5c82-4804-87d6-57adf993ab17",
        "colab": {
          "base_uri": "https://localhost:8080/",
          "height": 35
        }
      },
      "source": [
        "# run the drive if the images are stored in the drive\n",
        "'''from google.colab import drive\n",
        "drive.mount('/content/drive')'''"
      ],
      "execution_count": 0,
      "outputs": [
        {
          "output_type": "execute_result",
          "data": {
            "text/plain": [
              "\"from google.colab import drive\\ndrive.mount('/content/drive')\""
            ]
          },
          "metadata": {
            "tags": []
          },
          "execution_count": 2
        }
      ]
    },
    {
      "cell_type": "code",
      "metadata": {
        "id": "1Hs_upZtsLOc",
        "colab_type": "code",
        "outputId": "46e3be92-f2dd-4591-d2ed-a3cfd7d257b6",
        "colab": {
          "base_uri": "https://localhost:8080/",
          "height": 35
        }
      },
      "source": [
        "# import all the required libraries\n",
        "import numpy as np\n",
        "import os, shutil\n",
        "import cv2\n",
        "import glob\n",
        "from pathlib import Path\n",
        "from tqdm import tqdm\n",
        "import seaborn as sns\n",
        "import pandas as pd\n",
        "import matplotlib.pyplot as plt\n",
        "from keras.applications.vgg16 import VGG16\n",
        "from keras.applications.vgg16 import preprocess_input\n",
        "from keras.preprocessing.image import ImageDataGenerator\n",
        "from keras.models import Sequential\n",
        "from keras.layers import Flatten, Dense, Dropout\n",
        "from keras.models import Model\n",
        "import matplotlib.pyplot as plt\n",
        "from keras.callbacks import EarlyStopping\n",
        "from keras.callbacks import ModelCheckpoint"
      ],
      "execution_count": 0,
      "outputs": [
        {
          "output_type": "stream",
          "text": [
            "Using TensorFlow backend.\n"
          ],
          "name": "stderr"
        }
      ]
    },
    {
      "cell_type": "code",
      "metadata": {
        "id": "4ldb5r5KrtpZ",
        "colab_type": "code",
        "colab": {}
      },
      "source": [
        "# using pathlib library to save the path directory in the 'train path'\n",
        "train_path = Path('/content/drive/My Drive/chest_xray/chest_xray/train')"
      ],
      "execution_count": 0,
      "outputs": []
    },
    {
      "cell_type": "code",
      "metadata": {
        "id": "-Vzys1yvsNbR",
        "colab_type": "code",
        "colab": {}
      },
      "source": [
        "# getting the subdirectory folders from train path \n",
        "normal_cases_dir = train_path/'NORMAL'\n",
        "pneumonia_cases_dir = train_path/'PNEUMONIA'"
      ],
      "execution_count": 0,
      "outputs": []
    },
    {
      "cell_type": "code",
      "metadata": {
        "id": "SWvw4wjascfq",
        "colab_type": "code",
        "colab": {}
      },
      "source": [
        "# glob function is used to get  path of all the images in the pneumonia and normal directories\n",
        "normal_cases = normal_cases_dir.glob('*.jpeg')\n",
        "phneumonia_cases = pneumonia_cases_dir.glob('*.jpeg')"
      ],
      "execution_count": 0,
      "outputs": []
    },
    {
      "cell_type": "code",
      "metadata": {
        "id": "jMvBqQ3XtDJH",
        "colab_type": "code",
        "colab": {}
      },
      "source": [
        "'''lets create a train_data list which as a tuple value (image path , label)\n",
        " if the label = 1 - indicates person is pneumonia affected, label =0 indicates\n",
        " person is normal'''\n",
        "\n",
        "train_data = []\n",
        "\n",
        "for img in normal_cases:\n",
        "  train_data.append((img, 0))\n",
        "\n",
        "for img in phneumonia_cases:\n",
        "  train_data.append((img, 1))  \n"
      ],
      "execution_count": 0,
      "outputs": []
    },
    {
      "cell_type": "code",
      "metadata": {
        "id": "s9ZgtAtpu7Jp",
        "colab_type": "code",
        "colab": {}
      },
      "source": [
        "# creating a dataframe 'train_data for image dataset using pandas library\n",
        "\n",
        "train_data = pd.DataFrame(train_data, columns=['image','label'])"
      ],
      "execution_count": 0,
      "outputs": []
    },
    {
      "cell_type": "code",
      "metadata": {
        "id": "YzptKFk1vlaJ",
        "colab_type": "code",
        "outputId": "0b6f61af-52c9-44d8-9304-5c1740913f34",
        "colab": {
          "base_uri": "https://localhost:8080/",
          "height": 202
        }
      },
      "source": [
        "# The dataframe with label-0 as 'Normal' and label-1 as 'Phneumonia'\n",
        "\n",
        "train_data.head()"
      ],
      "execution_count": 0,
      "outputs": [
        {
          "output_type": "execute_result",
          "data": {
            "text/html": [
              "<div>\n",
              "<style scoped>\n",
              "    .dataframe tbody tr th:only-of-type {\n",
              "        vertical-align: middle;\n",
              "    }\n",
              "\n",
              "    .dataframe tbody tr th {\n",
              "        vertical-align: top;\n",
              "    }\n",
              "\n",
              "    .dataframe thead th {\n",
              "        text-align: right;\n",
              "    }\n",
              "</style>\n",
              "<table border=\"1\" class=\"dataframe\">\n",
              "  <thead>\n",
              "    <tr style=\"text-align: right;\">\n",
              "      <th></th>\n",
              "      <th>image</th>\n",
              "      <th>label</th>\n",
              "    </tr>\n",
              "  </thead>\n",
              "  <tbody>\n",
              "    <tr>\n",
              "      <th>0</th>\n",
              "      <td>/content/drive/My Drive/chest_xray/chest_xray/...</td>\n",
              "      <td>0</td>\n",
              "    </tr>\n",
              "    <tr>\n",
              "      <th>1</th>\n",
              "      <td>/content/drive/My Drive/chest_xray/chest_xray/...</td>\n",
              "      <td>0</td>\n",
              "    </tr>\n",
              "    <tr>\n",
              "      <th>2</th>\n",
              "      <td>/content/drive/My Drive/chest_xray/chest_xray/...</td>\n",
              "      <td>0</td>\n",
              "    </tr>\n",
              "    <tr>\n",
              "      <th>3</th>\n",
              "      <td>/content/drive/My Drive/chest_xray/chest_xray/...</td>\n",
              "      <td>0</td>\n",
              "    </tr>\n",
              "    <tr>\n",
              "      <th>4</th>\n",
              "      <td>/content/drive/My Drive/chest_xray/chest_xray/...</td>\n",
              "      <td>0</td>\n",
              "    </tr>\n",
              "  </tbody>\n",
              "</table>\n",
              "</div>"
            ],
            "text/plain": [
              "                                               image  label\n",
              "0  /content/drive/My Drive/chest_xray/chest_xray/...      0\n",
              "1  /content/drive/My Drive/chest_xray/chest_xray/...      0\n",
              "2  /content/drive/My Drive/chest_xray/chest_xray/...      0\n",
              "3  /content/drive/My Drive/chest_xray/chest_xray/...      0\n",
              "4  /content/drive/My Drive/chest_xray/chest_xray/...      0"
            ]
          },
          "metadata": {
            "tags": []
          },
          "execution_count": 9
        }
      ]
    },
    {
      "cell_type": "code",
      "metadata": {
        "id": "r55kvCKiwIwI",
        "colab_type": "code",
        "outputId": "7395b775-3891-45e0-cd22-eb517b1b6962",
        "colab": {
          "base_uri": "https://localhost:8080/",
          "height": 69
        }
      },
      "source": [
        "# the dataset is embalanced, the count of label 1 =2534 and count of label 0 = 1341\n",
        "train_data['label'].value_counts()"
      ],
      "execution_count": 0,
      "outputs": [
        {
          "output_type": "execute_result",
          "data": {
            "text/plain": [
              "1    2534\n",
              "0    1341\n",
              "Name: label, dtype: int64"
            ]
          },
          "metadata": {
            "tags": []
          },
          "execution_count": 10
        }
      ]
    },
    {
      "cell_type": "code",
      "metadata": {
        "id": "zRFKpRkezKy9",
        "colab_type": "code",
        "colab": {}
      },
      "source": [
        "seed =123\n",
        "np.random.seed(seed)"
      ],
      "execution_count": 0,
      "outputs": []
    },
    {
      "cell_type": "code",
      "metadata": {
        "id": "64yN6HjVxEj2",
        "colab_type": "code",
        "colab": {}
      },
      "source": [
        "# lets shuffle the dataset \n",
        "\n",
        "train_data = train_data.sample(frac=1.).reset_index(drop=True)\n"
      ],
      "execution_count": 0,
      "outputs": []
    },
    {
      "cell_type": "code",
      "metadata": {
        "id": "IWoYytsSyegq",
        "colab_type": "code",
        "outputId": "6c81881a-0a69-46f2-9c65-53472f251c90",
        "colab": {
          "base_uri": "https://localhost:8080/",
          "height": 202
        }
      },
      "source": [
        "train_data.head()\n"
      ],
      "execution_count": 0,
      "outputs": [
        {
          "output_type": "execute_result",
          "data": {
            "text/html": [
              "<div>\n",
              "<style scoped>\n",
              "    .dataframe tbody tr th:only-of-type {\n",
              "        vertical-align: middle;\n",
              "    }\n",
              "\n",
              "    .dataframe tbody tr th {\n",
              "        vertical-align: top;\n",
              "    }\n",
              "\n",
              "    .dataframe thead th {\n",
              "        text-align: right;\n",
              "    }\n",
              "</style>\n",
              "<table border=\"1\" class=\"dataframe\">\n",
              "  <thead>\n",
              "    <tr style=\"text-align: right;\">\n",
              "      <th></th>\n",
              "      <th>image</th>\n",
              "      <th>label</th>\n",
              "    </tr>\n",
              "  </thead>\n",
              "  <tbody>\n",
              "    <tr>\n",
              "      <th>0</th>\n",
              "      <td>/content/drive/My Drive/chest_xray/chest_xray/...</td>\n",
              "      <td>1</td>\n",
              "    </tr>\n",
              "    <tr>\n",
              "      <th>1</th>\n",
              "      <td>/content/drive/My Drive/chest_xray/chest_xray/...</td>\n",
              "      <td>1</td>\n",
              "    </tr>\n",
              "    <tr>\n",
              "      <th>2</th>\n",
              "      <td>/content/drive/My Drive/chest_xray/chest_xray/...</td>\n",
              "      <td>1</td>\n",
              "    </tr>\n",
              "    <tr>\n",
              "      <th>3</th>\n",
              "      <td>/content/drive/My Drive/chest_xray/chest_xray/...</td>\n",
              "      <td>1</td>\n",
              "    </tr>\n",
              "    <tr>\n",
              "      <th>4</th>\n",
              "      <td>/content/drive/My Drive/chest_xray/chest_xray/...</td>\n",
              "      <td>1</td>\n",
              "    </tr>\n",
              "  </tbody>\n",
              "</table>\n",
              "</div>"
            ],
            "text/plain": [
              "                                               image  label\n",
              "0  /content/drive/My Drive/chest_xray/chest_xray/...      1\n",
              "1  /content/drive/My Drive/chest_xray/chest_xray/...      1\n",
              "2  /content/drive/My Drive/chest_xray/chest_xray/...      1\n",
              "3  /content/drive/My Drive/chest_xray/chest_xray/...      1\n",
              "4  /content/drive/My Drive/chest_xray/chest_xray/...      1"
            ]
          },
          "metadata": {
            "tags": []
          },
          "execution_count": 13
        }
      ]
    },
    {
      "cell_type": "code",
      "metadata": {
        "id": "c46wiv070GkS",
        "colab_type": "code",
        "outputId": "bc373d5d-5b45-447b-b2f7-4a52a7f0f698",
        "colab": {
          "base_uri": "https://localhost:8080/",
          "height": 301
        }
      },
      "source": [
        "# from countplot we can see that there is unequal distribution of labels in the dataset\n",
        "\n",
        "sns.countplot(train_data['label'], palette='plasma')"
      ],
      "execution_count": 0,
      "outputs": [
        {
          "output_type": "execute_result",
          "data": {
            "text/plain": [
              "<matplotlib.axes._subplots.AxesSubplot at 0x7ff9e0efb898>"
            ]
          },
          "metadata": {
            "tags": []
          },
          "execution_count": 14
        },
        {
          "output_type": "display_data",
          "data": {
            "image/png": "[encoded data removed]",
            "text/plain": [
              "<Figure size 432x288 with 1 Axes>"
            ]
          },
          "metadata": {
            "tags": []
          }
        }
      ]
    },
    {
      "cell_type": "markdown",
      "metadata": {
        "id": "KPbEn-j7uRiE",
        "colab_type": "text"
      },
      "source": [
        "To balance the data, i have created a subdirectoty in the train_path as 'pneumonia_balanced' which stores only 1341 images, here i have performed down sampling as 70% of the data as label 1 and 30% of the data as label 0, upsampling might cause overfitting \n"
      ]
    },
    {
      "cell_type": "code",
      "metadata": {
        "id": "c2qZUOSBNdNx",
        "colab_type": "code",
        "colab": {}
      },
      "source": [
        "src = '/content/drive/My Drive/chest_xray/chest_xray/train/PNEUMONIA'\n",
        "dst = '/content/drive/My Drive/chest_xray/chest_xray/train/pneumonia_blanced'"
      ],
      "execution_count": 0,
      "outputs": []
    },
    {
      "cell_type": "code",
      "metadata": {
        "id": "YdiJm2_Gs0Yx",
        "colab_type": "code",
        "outputId": "0c01e022-0cb6-48e4-e599-03b565623088",
        "colab": {
          "base_uri": "https://localhost:8080/",
          "height": 55
        }
      },
      "source": [
        "# code for moving the file from one directory to another directory\n",
        " \n",
        "'''\n",
        "for f in os.listdir('/content/drive/My Drive/chest_xray/chest_xray/train/PNEUMONIA')[:1341]:\n",
        "  src_name = os.path.join(src, f)\n",
        "  shutil.copy(src_name,'/content/drive/My Drive/chest_xray/chest_xray/train/pneumonia_blanced/.jpeg')\n",
        "  \n",
        "'''  \n",
        "\n",
        "\n"
      ],
      "execution_count": 0,
      "outputs": [
        {
          "output_type": "execute_result",
          "data": {
            "text/plain": [
              "\"\\nfor f in os.listdir('/content/drive/My Drive/chest_xray/chest_xray/train/PNEUMONIA')[:1341]:\\n src_name = os.path.join(src, f)\\n shutil.copy(src_name,'/content/drive/My Drive/chest_xray/chest_xray/train/pneumonia_blanced/.jpeg')\\n \\n\""
            ]
          },
          "metadata": {
            "tags": []
          },
          "execution_count": 16
        }
      ]
    },
    {
      "cell_type": "code",
      "metadata": {
        "id": "kZV2L7TQpKP3",
        "colab_type": "code",
        "colab": {}
      },
      "source": [
        "# getting the subdirectory folders from train path, performing similar operation as above\n",
        "normal_dir = train_path/'NORMAL'\n",
        "phenumonia_dir = train_path/'pneumonia_blanced'\n",
        "\n",
        "normal_case = normal_dir.glob('*.jpeg')\n",
        "phenumonia_case = phenumonia_dir.glob('*.jpeg')"
      ],
      "execution_count": 0,
      "outputs": []
    },
    {
      "cell_type": "code",
      "metadata": {
        "id": "OvMdQAo_ORJU",
        "colab_type": "code",
        "colab": {}
      },
      "source": [
        "'''lets create a train_data list which as a tuple value (image path , label)\n",
        " if the label = 1 - indicates person is pneumonia affected, label =0 indicates\n",
        " person is normal'''\n",
        "new_train_data =[]\n",
        "\n",
        "for img in normal_case:\n",
        "  new_train_data.append((img,0))\n",
        "\n",
        "for img in phenumonia_case:\n",
        "  new_train_data.append((img,1))"
      ],
      "execution_count": 0,
      "outputs": []
    },
    {
      "cell_type": "code",
      "metadata": {
        "id": "s8bbFwQxz2r-",
        "colab_type": "code",
        "colab": {}
      },
      "source": [
        "# creating the dataframe to store the balanced label\n",
        "df = pd.DataFrame(new_train_data, columns=['image','label'], dtype=str)\n",
        "df = df.reindex(np.random.permutation(df.index))"
      ],
      "execution_count": 0,
      "outputs": []
    },
    {
      "cell_type": "code",
      "metadata": {
        "id": "Nu1pSUeO0EA3",
        "colab_type": "code",
        "outputId": "396ae448-41bb-4244-a558-465d37abe441",
        "colab": {
          "base_uri": "https://localhost:8080/",
          "height": 202
        }
      },
      "source": [
        "df.head()"
      ],
      "execution_count": 0,
      "outputs": [
        {
          "output_type": "execute_result",
          "data": {
            "text/html": [
              "<div>\n",
              "<style scoped>\n",
              "    .dataframe tbody tr th:only-of-type {\n",
              "        vertical-align: middle;\n",
              "    }\n",
              "\n",
              "    .dataframe tbody tr th {\n",
              "        vertical-align: top;\n",
              "    }\n",
              "\n",
              "    .dataframe thead th {\n",
              "        text-align: right;\n",
              "    }\n",
              "</style>\n",
              "<table border=\"1\" class=\"dataframe\">\n",
              "  <thead>\n",
              "    <tr style=\"text-align: right;\">\n",
              "      <th></th>\n",
              "      <th>image</th>\n",
              "      <th>label</th>\n",
              "    </tr>\n",
              "  </thead>\n",
              "  <tbody>\n",
              "    <tr>\n",
              "      <th>2091</th>\n",
              "      <td>/content/drive/My Drive/chest_xray/chest_xray/...</td>\n",
              "      <td>1</td>\n",
              "    </tr>\n",
              "    <tr>\n",
              "      <th>1190</th>\n",
              "      <td>/content/drive/My Drive/chest_xray/chest_xray/...</td>\n",
              "      <td>0</td>\n",
              "    </tr>\n",
              "    <tr>\n",
              "      <th>617</th>\n",
              "      <td>/content/drive/My Drive/chest_xray/chest_xray/...</td>\n",
              "      <td>0</td>\n",
              "    </tr>\n",
              "    <tr>\n",
              "      <th>1567</th>\n",
              "      <td>/content/drive/My Drive/chest_xray/chest_xray/...</td>\n",
              "      <td>1</td>\n",
              "    </tr>\n",
              "    <tr>\n",
              "      <th>2492</th>\n",
              "      <td>/content/drive/My Drive/chest_xray/chest_xray/...</td>\n",
              "      <td>1</td>\n",
              "    </tr>\n",
              "  </tbody>\n",
              "</table>\n",
              "</div>"
            ],
            "text/plain": [
              "                                                  image label\n",
              "2091  /content/drive/My Drive/chest_xray/chest_xray/...     1\n",
              "1190  /content/drive/My Drive/chest_xray/chest_xray/...     0\n",
              "617   /content/drive/My Drive/chest_xray/chest_xray/...     0\n",
              "1567  /content/drive/My Drive/chest_xray/chest_xray/...     1\n",
              "2492  /content/drive/My Drive/chest_xray/chest_xray/...     1"
            ]
          },
          "metadata": {
            "tags": []
          },
          "execution_count": 20
        }
      ]
    },
    {
      "cell_type": "code",
      "metadata": {
        "id": "r_lGi-tr0FXe",
        "colab_type": "code",
        "outputId": "72f9973a-c618-4cdf-8a80-7661b08bef3e",
        "colab": {
          "base_uri": "https://localhost:8080/",
          "height": 69
        }
      },
      "source": [
        "df['label'].value_counts()"
      ],
      "execution_count": 0,
      "outputs": [
        {
          "output_type": "execute_result",
          "data": {
            "text/plain": [
              "1    1342\n",
              "0    1341\n",
              "Name: label, dtype: int64"
            ]
          },
          "metadata": {
            "tags": []
          },
          "execution_count": 21
        }
      ]
    },
    {
      "cell_type": "code",
      "metadata": {
        "id": "yg6w2T8O0KNF",
        "colab_type": "code",
        "outputId": "bb4616d6-0d99-4963-cee0-6307af8c11eb",
        "colab": {
          "base_uri": "https://localhost:8080/",
          "height": 301
        }
      },
      "source": [
        "# the above figure shows the balanced classification of 'PHEUMONIA' and 'NORMAL'\n",
        "sns.countplot(df['label'])"
      ],
      "execution_count": 0,
      "outputs": [
        {
          "output_type": "execute_result",
          "data": {
            "text/plain": [
              "<matplotlib.axes._subplots.AxesSubplot at 0x7ff9e0dab438>"
            ]
          },
          "metadata": {
            "tags": []
          },
          "execution_count": 22
        },
        {
          "output_type": "display_data",
          "data": {
            "image/png": "[encoded data removed]",
            "text/plain": [
              "<Figure size 432x288 with 1 Axes>"
            ]
          },
          "metadata": {
            "tags": []
          }
        }
      ]
    },
    {
      "cell_type": "code",
      "metadata": {
        "id": "yefAy5omvjD9",
        "colab_type": "code",
        "outputId": "a0820cb4-77a7-4682-aab9-a4a79434cff6",
        "colab": {
          "base_uri": "https://localhost:8080/",
          "height": 69
        }
      },
      "source": [
        "df.dtypes"
      ],
      "execution_count": 0,
      "outputs": [
        {
          "output_type": "execute_result",
          "data": {
            "text/plain": [
              "image    object\n",
              "label    object\n",
              "dtype: object"
            ]
          },
          "metadata": {
            "tags": []
          },
          "execution_count": 23
        }
      ]
    },
    {
      "cell_type": "code",
      "metadata": {
        "id": "a4Hs8GwEHxJ0",
        "colab_type": "code",
        "outputId": "72fd6850-9b41-4371-db3e-3885ca8d51fe",
        "colab": {
          "base_uri": "https://localhost:8080/",
          "height": 35
        }
      },
      "source": [
        "os.listdir(train_path)"
      ],
      "execution_count": 0,
      "outputs": [
        {
          "output_type": "execute_result",
          "data": {
            "text/plain": [
              "['PNEUMONIA', 'NORMAL', '.DS_Store', 'pneumonia_blanced']"
            ]
          },
          "metadata": {
            "tags": []
          },
          "execution_count": 24
        }
      ]
    },
    {
      "cell_type": "code",
      "metadata": {
        "id": "AA3k3-Ubsx6L",
        "colab_type": "code",
        "outputId": "eecda152-2403-4f19-e0e3-33b848c3d48e",
        "colab": {
          "base_uri": "https://localhost:8080/",
          "height": 297
        }
      },
      "source": [
        "# lets build the model\n",
        "# here i will be using vgg16 pretrainded model, u can use any other model of your choice\n",
        "# lets import vgg16 library and weights used here is imagenet weights\n",
        "\n",
        "image_size = [224,224]\n",
        "\n",
        "vgg = VGG16(input_shape = image_size+[3], weights = 'imagenet', include_top = False)"
      ],
      "execution_count": 0,
      "outputs": [
        {
          "output_type": "stream",
          "text": [
            "WARNING: Logging before flag parsing goes to stderr.\n",
            "W0829 04:49:09.937493 140712416814976 deprecation_wrapper.py:119] From /usr/local/lib/python3.6/dist-packages/keras/backend/tensorflow_backend.py:74: The name tf.get_default_graph is deprecated. Please use tf.compat.v1.get_default_graph instead.\n",
            "\n",
            "W0829 04:49:09.982725 140712416814976 deprecation_wrapper.py:119] From /usr/local/lib/python3.6/dist-packages/keras/backend/tensorflow_backend.py:517: The name tf.placeholder is deprecated. Please use tf.compat.v1.placeholder instead.\n",
            "\n",
            "W0829 04:49:09.991335 140712416814976 deprecation_wrapper.py:119] From /usr/local/lib/python3.6/dist-packages/keras/backend/tensorflow_backend.py:4138: The name tf.random_uniform is deprecated. Please use tf.random.uniform instead.\n",
            "\n",
            "W0829 04:49:10.045461 140712416814976 deprecation_wrapper.py:119] From /usr/local/lib/python3.6/dist-packages/keras/backend/tensorflow_backend.py:3976: The name tf.nn.max_pool is deprecated. Please use tf.nn.max_pool2d instead.\n",
            "\n"
          ],
          "name": "stderr"
        },
        {
          "output_type": "stream",
          "text": [
            "Downloading data from https://github.com/fchollet/deep-learning-models/releases/download/v0.1/vgg16_weights_tf_dim_ordering_tf_kernels_notop.h5\n",
            "58892288/58889256 [==============================] - 1s 0us/step\n"
          ],
          "name": "stdout"
        },
        {
          "output_type": "stream",
          "text": [
            "W0829 04:49:11.571085 140712416814976 deprecation_wrapper.py:119] From /usr/local/lib/python3.6/dist-packages/keras/backend/tensorflow_backend.py:174: The name tf.get_default_session is deprecated. Please use tf.compat.v1.get_default_session instead.\n",
            "\n",
            "W0829 04:49:11.572208 140712416814976 deprecation_wrapper.py:119] From /usr/local/lib/python3.6/dist-packages/keras/backend/tensorflow_backend.py:181: The name tf.ConfigProto is deprecated. Please use tf.compat.v1.ConfigProto instead.\n",
            "\n"
          ],
          "name": "stderr"
        }
      ]
    },
    {
      "cell_type": "code",
      "metadata": {
        "id": "gdvfy13WsyQT",
        "colab_type": "code",
        "colab": {}
      },
      "source": [
        "# here i am not training the model again in the sense not updating the weights of the model, using  the old pretrained model weights \n",
        "for layer in vgg.layers:\n",
        "  layer.trainable = False"
      ],
      "execution_count": 0,
      "outputs": []
    },
    {
      "cell_type": "code",
      "metadata": {
        "id": "xb9a-KwTKM9d",
        "colab_type": "code",
        "outputId": "e17e34b7-30c5-495c-e5a2-42430aa0a395",
        "colab": {
          "base_uri": "https://localhost:8080/",
          "height": 89
        }
      },
      "source": [
        "# now lets create a dense layer for predicting output\n",
        "\n",
        "x = Flatten()(vgg.output)\n",
        "\n",
        "x = Dense(128, activation='relu', name='fc1')(x)\n",
        "x = Dropout(rate = 0.2, name='dropout1')(x)\n",
        "prediction = Dense(2, activation='softmax', name='output_layer')(x)\n",
        "\n",
        "\n",
        "model = Model(inputs = vgg.input , outputs = prediction)"
      ],
      "execution_count": 0,
      "outputs": [
        {
          "output_type": "stream",
          "text": [
            "W0829 04:49:12.227035 140712416814976 deprecation.py:506] From /usr/local/lib/python3.6/dist-packages/keras/backend/tensorflow_backend.py:3445: calling dropout (from tensorflow.python.ops.nn_ops) with keep_prob is deprecated and will be removed in a future version.\n",
            "Instructions for updating:\n",
            "Please use `rate` instead of `keep_prob`. Rate should be set to `rate = 1 - keep_prob`.\n"
          ],
          "name": "stderr"
        }
      ]
    },
    {
      "cell_type": "code",
      "metadata": {
        "id": "cM0QPl0bYRTI",
        "colab_type": "code",
        "outputId": "8b565061-c028-4386-ebc5-95a2f72d07e3",
        "colab": {
          "base_uri": "https://localhost:8080/",
          "height": 936
        }
      },
      "source": [
        "model.summary()"
      ],
      "execution_count": 0,
      "outputs": [
        {
          "output_type": "stream",
          "text": [
            "_________________________________________________________________\n",
            "Layer (type)                 Output Shape              Param #   \n",
            "=================================================================\n",
            "input_1 (InputLayer)         (None, 224, 224, 3)       0         \n",
            "_________________________________________________________________\n",
            "block1_conv1 (Conv2D)        (None, 224, 224, 64)      1792      \n",
            "_________________________________________________________________\n",
            "block1_conv2 (Conv2D)        (None, 224, 224, 64)      36928     \n",
            "_________________________________________________________________\n",
            "block1_pool (MaxPooling2D)   (None, 112, 112, 64)      0         \n",
            "_________________________________________________________________\n",
            "block2_conv1 (Conv2D)        (None, 112, 112, 128)     73856     \n",
            "_________________________________________________________________\n",
            "block2_conv2 (Conv2D)        (None, 112, 112, 128)     147584    \n",
            "_________________________________________________________________\n",
            "block2_pool (MaxPooling2D)   (None, 56, 56, 128)       0         \n",
            "_________________________________________________________________\n",
            "block3_conv1 (Conv2D)        (None, 56, 56, 256)       295168    \n",
            "_________________________________________________________________\n",
            "block3_conv2 (Conv2D)        (None, 56, 56, 256)       590080    \n",
            "_________________________________________________________________\n",
            "block3_conv3 (Conv2D)        (None, 56, 56, 256)       590080    \n",
            "_________________________________________________________________\n",
            "block3_pool (MaxPooling2D)   (None, 28, 28, 256)       0         \n",
            "_________________________________________________________________\n",
            "block4_conv1 (Conv2D)        (None, 28, 28, 512)       1180160   \n",
            "_________________________________________________________________\n",
            "block4_conv2 (Conv2D)        (None, 28, 28, 512)       2359808   \n",
            "_________________________________________________________________\n",
            "block4_conv3 (Conv2D)        (None, 28, 28, 512)       2359808   \n",
            "_________________________________________________________________\n",
            "block4_pool (MaxPooling2D)   (None, 14, 14, 512)       0         \n",
            "_________________________________________________________________\n",
            "block5_conv1 (Conv2D)        (None, 14, 14, 512)       2359808   \n",
            "_________________________________________________________________\n",
            "block5_conv2 (Conv2D)        (None, 14, 14, 512)       2359808   \n",
            "_________________________________________________________________\n",
            "block5_conv3 (Conv2D)        (None, 14, 14, 512)       2359808   \n",
            "_________________________________________________________________\n",
            "block5_pool (MaxPooling2D)   (None, 7, 7, 512)         0         \n",
            "_________________________________________________________________\n",
            "flatten_1 (Flatten)          (None, 25088)             0         \n",
            "_________________________________________________________________\n",
            "fc1 (Dense)                  (None, 128)               3211392   \n",
            "_________________________________________________________________\n",
            "dropout1 (Dropout)           (None, 128)               0         \n",
            "_________________________________________________________________\n",
            "output_layer (Dense)         (None, 2)                 258       \n",
            "=================================================================\n",
            "Total params: 17,926,338\n",
            "Trainable params: 3,211,650\n",
            "Non-trainable params: 14,714,688\n",
            "_________________________________________________________________\n"
          ],
          "name": "stdout"
        }
      ]
    },
    {
      "cell_type": "code",
      "metadata": {
        "id": "hPBbKcgcN_Ax",
        "colab_type": "code",
        "outputId": "e56fe872-9e98-4808-b5f5-a92ab50d4959",
        "colab": {
          "base_uri": "https://localhost:8080/",
          "height": 72
        }
      },
      "source": [
        "model.compile(loss = 'categorical_crossentropy',\n",
        "              optimizer = 'adam',\n",
        "              metrics = ['accuracy'])"
      ],
      "execution_count": 0,
      "outputs": [
        {
          "output_type": "stream",
          "text": [
            "W0829 04:49:12.277845 140712416814976 deprecation_wrapper.py:119] From /usr/local/lib/python3.6/dist-packages/keras/optimizers.py:790: The name tf.train.Optimizer is deprecated. Please use tf.compat.v1.train.Optimizer instead.\n",
            "\n"
          ],
          "name": "stderr"
        }
      ]
    },
    {
      "cell_type": "code",
      "metadata": {
        "id": "lERIO52Ysy1b",
        "colab_type": "code",
        "colab": {}
      },
      "source": [
        "# path for validation and testing data\n",
        "\n",
        "valid_path = '/content/drive/My Drive/chest_xray/chest_xray/val'\n",
        "test_path  = '/content/drive/My Drive/chest_xray/chest_xray/test'"
      ],
      "execution_count": 0,
      "outputs": []
    },
    {
      "cell_type": "code",
      "metadata": {
        "id": "BT2iAy4nGgpz",
        "colab_type": "code",
        "outputId": "89d9d8c5-9ff9-4b02-956f-90bb77054d06",
        "colab": {
          "base_uri": "https://localhost:8080/",
          "height": 35
        }
      },
      "source": [
        "''' for training set i have used dataframe which as equal distribution of categories,\n",
        "suppose if your using dataframe make sure to convert data type of the column to string type\n",
        "else it will throw an error '''\n",
        "\n",
        "data_gen = ImageDataGenerator(rescale=1./255)\n",
        "\n",
        "training_set = data_gen.flow_from_dataframe(dataframe = df,\n",
        "                                x_col = 'image',\n",
        "                                y_col = 'label',\n",
        "                                target_size=(224,224),\n",
        "                                class_mode='categorical',\n",
        "                                batch_size=128,\n",
        "                                shuffle = True,\n",
        "                                seed = 1)"
      ],
      "execution_count": 0,
      "outputs": [
        {
          "output_type": "stream",
          "text": [
            "Found 2683 validated image filenames belonging to 2 classes.\n"
          ],
          "name": "stdout"
        }
      ]
    },
    {
      "cell_type": "code",
      "metadata": {
        "id": "qas51tEDDkJ2",
        "colab_type": "code",
        "outputId": "e4d33c52-e341-4a3f-d322-99177a031c5a",
        "colab": {
          "base_uri": "https://localhost:8080/",
          "height": 35
        }
      },
      "source": [
        "# testing data to check my model performance on unseen data\n",
        "test_set = data_gen.flow_from_directory(directory = test_path,\n",
        "                                              target_size = (224,224),\n",
        "                                              batch_size = 64,\n",
        "                                              color_mode = 'rgb',\n",
        "                                              class_mode = 'categorical')                                \n",
        "                                                                                                                         "
      ],
      "execution_count": 0,
      "outputs": [
        {
          "output_type": "stream",
          "text": [
            "Found 624 images belonging to 2 classes.\n"
          ],
          "name": "stdout"
        }
      ]
    },
    {
      "cell_type": "code",
      "metadata": {
        "id": "vH-6XP59Og9E",
        "colab_type": "code",
        "outputId": "f27a0797-d02b-4ac5-89be-77f400fca610",
        "colab": {
          "base_uri": "https://localhost:8080/",
          "height": 280
        }
      },
      "source": [
        "\n",
        "# now fit the model \n",
        "\n",
        "'''using EarlyStopping for preventing overfitting and stop the epochs if there is \n",
        "no progress in the validation accuracy, will check after every 3 epochs, by setting patience=3  \n",
        "\n",
        "Also using modelcheckpoints to restore best weights'''\n",
        "\n",
        "mc = ModelCheckpoint(filepath = 'lung-disease.{epoch:02d} - {val_loss:.2f}.hdf5',\n",
        "                     monitor = 'val_acc',\n",
        "                     save_best_only = True,\n",
        "                     save_weights_only = True,\n",
        "                     mode = 'max',\n",
        "                     period = 3)\n",
        "                     \n",
        "                     \n",
        "monitor = EarlyStopping(monitor = 'val_loss',\n",
        "                        min_delta = 1e-3,\n",
        "                        patience = 2,\n",
        "                        restore_best_weights = False,\n",
        "                        verbose = 1,\n",
        "                        mode = 'min')                        \n",
        "\n",
        "hist = model.fit_generator(generator = training_set,\n",
        "                    steps_per_epoch = len(training_set),\n",
        "                    validation_data = test_set,\n",
        "                    validation_steps = len(test_set),\n",
        "                    epochs = 10,\n",
        "                    callbacks = [monitor,mc])"
      ],
      "execution_count": 0,
      "outputs": [
        {
          "output_type": "stream",
          "text": [
            "W0829 04:49:15.124917 140712416814976 deprecation.py:323] From /usr/local/lib/python3.6/dist-packages/tensorflow/python/ops/math_grad.py:1250: add_dispatch_support.<locals>.wrapper (from tensorflow.python.ops.array_ops) is deprecated and will be removed in a future version.\n",
            "Instructions for updating:\n",
            "Use tf.where in 2.0, which has the same broadcast rule as np.where\n"
          ],
          "name": "stderr"
        },
        {
          "output_type": "stream",
          "text": [
            "Epoch 1/10\n",
            "21/21 [==============================] - 1774s 84s/step - loss: 1.0637 - acc: 0.6459 - val_loss: 0.4721 - val_acc: 0.8558\n",
            "Epoch 2/10\n",
            "21/21 [==============================] - 1705s 81s/step - loss: 0.2883 - acc: 0.9031 - val_loss: 0.3272 - val_acc: 0.8606\n",
            "Epoch 3/10\n",
            "21/21 [==============================] - 1705s 81s/step - loss: 0.1769 - acc: 0.9386 - val_loss: 0.3121 - val_acc: 0.8782\n",
            "Epoch 4/10\n",
            "21/21 [==============================] - 1707s 81s/step - loss: 0.1430 - acc: 0.9538 - val_loss: 0.3612 - val_acc: 0.8526\n",
            "Epoch 5/10\n",
            "21/21 [==============================] - 1705s 81s/step - loss: 0.1129 - acc: 0.9628 - val_loss: 0.3545 - val_acc: 0.8686\n",
            "Epoch 00005: early stopping\n"
          ],
          "name": "stdout"
        }
      ]
    },
    {
      "cell_type": "code",
      "metadata": {
        "id": "NsL0C6__OhWs",
        "colab_type": "code",
        "colab": {}
      },
      "source": [
        "#lets save the training model performance in h5 file \n",
        "import tensorflow as tf\n",
        "from keras.models import load_model\n",
        "model.save('lung_disease_vgg16.h5')\n"
      ],
      "execution_count": 0,
      "outputs": []
    },
    {
      "cell_type": "code",
      "metadata": {
        "id": "40A4SbG2Dk8Y",
        "colab_type": "code",
        "outputId": "3ca574a7-01a1-4177-cd0e-8a321c60f84f",
        "colab": {
          "base_uri": "https://localhost:8080/",
          "height": 368
        }
      },
      "source": [
        "\n",
        "# lets plot the graph for accuracy and loss\n",
        "\n",
        "# plot for training and validation loss\n",
        "\n",
        "plt.figure(figsize=(10,5)) \n",
        "plt.plot(hist.history['loss'], label = 'training_loss', color = 'red')\n",
        "plt.plot(hist.history['val_loss'] , label = 'validation_loss',  color = 'green')\n",
        "plt.legend()\n",
        "plt.xlabel('no of epoch')\n",
        "plt.ylabel('training loss')\n",
        "plt.title('traning vs validation loss')\n",
        "plt.show()\n",
        "plt.savefig('tran_val_loss')"
      ],
      "execution_count": 0,
      "outputs": [
        {
          "output_type": "display_data",
          "data": {
            "image/png": "[encoded data removed]",
            "text/plain": [
              "<Figure size 720x360 with 1 Axes>"
            ]
          },
          "metadata": {
            "tags": []
          }
        },
        {
          "output_type": "display_data",
          "data": {
            "text/plain": [
              "<Figure size 432x288 with 0 Axes>"
            ]
          },
          "metadata": {
            "tags": []
          }
        }
      ]
    },
    {
      "cell_type": "code",
      "metadata": {
        "id": "fxlDH1PdGfb-",
        "colab_type": "code",
        "outputId": "72bb8d4f-7c28-4f8f-da28-8cb28d50d44a",
        "colab": {
          "base_uri": "https://localhost:8080/",
          "height": 368
        }
      },
      "source": [
        "# plot for training and validation accuracy\n",
        "\n",
        "plt.figure(figsize=(10,5))\n",
        "plt.plot(hist.history['acc'], label = 'training_accuracy', color = 'red')\n",
        "plt.plot(hist.history['val_acc'] , label = 'validation_accuracy', color = 'green')\n",
        "plt.legend()\n",
        "plt.xlabel('no of epoch')\n",
        "plt.ylabel('validation loss')\n",
        "plt.title('traning vs validation loss')\n",
        "plt.show()\n",
        "plt.savefig('tran_val_accuracy')\n"
      ],
      "execution_count": 0,
      "outputs": [
        {
          "output_type": "display_data",
          "data": {
            "image/png": "[encoded data removed]",
            "text/plain": [
              "<Figure size 720x360 with 1 Axes>"
            ]
          },
          "metadata": {
            "tags": []
          }
        },
        {
          "output_type": "display_data",
          "data": {
            "text/plain": [
              "<Figure size 432x288 with 0 Axes>"
            ]
          },
          "metadata": {
            "tags": []
          }
        }
      ]
    },
    {
      "cell_type": "code",
      "metadata": {
        "id": "oKiSlz8CO54A",
        "colab_type": "code",
        "outputId": "162cbdb0-493c-44ef-fee8-d79bfb30ca8e",
        "colab": {
          "base_uri": "https://localhost:8080/",
          "height": 35
        }
      },
      "source": [
        "# now lets predict the model on validation set\n",
        "validation_set = data_gen.flow_from_directory(directory = valid_path,\n",
        "                                              target_size = (224,224),\n",
        "                                             batch_size = 16,\n",
        "                                              class_mode = 'categorical')                      "
      ],
      "execution_count": 146,
      "outputs": [
        {
          "output_type": "stream",
          "text": [
            "Found 16 images belonging to 2 classes.\n"
          ],
          "name": "stdout"
        }
      ]
    },
    {
      "cell_type": "code",
      "metadata": {
        "id": "ZqKPWYSRfTy6",
        "colab_type": "code",
        "outputId": "0dac0b17-eba6-4b5f-f8c4-538ac406520b",
        "colab": {
          "base_uri": "https://localhost:8080/",
          "height": 35
        }
      },
      "source": [
        "validation_set.class_indices"
      ],
      "execution_count": 147,
      "outputs": [
        {
          "output_type": "execute_result",
          "data": {
            "text/plain": [
              "{'NORMAL': 0, 'PNEUMONIA': 1}"
            ]
          },
          "metadata": {
            "tags": []
          },
          "execution_count": 147
        }
      ]
    },
    {
      "cell_type": "code",
      "metadata": {
        "id": "5VfcFMq-nazS",
        "colab_type": "code",
        "colab": {}
      },
      "source": [
        "y_pred = model.predict_generator(generator = validation_set,\n",
        "                                  steps = 1,\n",
        "                                 verbose = 0)"
      ],
      "execution_count": 0,
      "outputs": []
    },
    {
      "cell_type": "code",
      "metadata": {
        "id": "8EcX1rjN5l48",
        "colab_type": "code",
        "colab": {
          "base_uri": "https://localhost:8080/",
          "height": 295
        },
        "outputId": "2ace5082-3160-473c-bbfc-0ae10dce38e3"
      },
      "source": [
        "# getting the labels for validation set\n",
        "test_img , test_labels = next(validation_set)\n",
        "test_labels"
      ],
      "execution_count": 151,
      "outputs": [
        {
          "output_type": "execute_result",
          "data": {
            "text/plain": [
              "array([[1., 0.],\n",
              "       [0., 1.],\n",
              "       [0., 1.],\n",
              "       [1., 0.],\n",
              "       [0., 1.],\n",
              "       [1., 0.],\n",
              "       [0., 1.],\n",
              "       [1., 0.],\n",
              "       [1., 0.],\n",
              "       [1., 0.],\n",
              "       [0., 1.],\n",
              "       [0., 1.],\n",
              "       [1., 0.],\n",
              "       [1., 0.],\n",
              "       [0., 1.],\n",
              "       [0., 1.]], dtype=float32)"
            ]
          },
          "metadata": {
            "tags": []
          },
          "execution_count": 151
        }
      ]
    },
    {
      "cell_type": "code",
      "metadata": {
        "id": "tdeVYcjpu4mH",
        "colab_type": "code",
        "colab": {
          "base_uri": "https://localhost:8080/",
          "height": 52
        },
        "outputId": "76f6df52-135e-423f-ace1-c88142c46bd0"
      },
      "source": [
        "# evaluate the model\n",
        "test_loss, test_accuracy = model.evaluate_generator(validation_set,\n",
        "                         steps = 1)\n",
        "\n",
        "print('test_loss', test_loss)\n",
        "print('test_accuracy', test_accuracy)"
      ],
      "execution_count": 163,
      "outputs": [
        {
          "output_type": "stream",
          "text": [
            "test_loss 0.19922414422035217\n",
            "test_accuracy 0.9375\n"
          ],
          "name": "stdout"
        }
      ]
    },
    {
      "cell_type": "code",
      "metadata": {
        "id": "10vycSTRvcKf",
        "colab_type": "code",
        "outputId": "d8b90506-bace-4068-afc3-78fd3e0e30ba",
        "colab": {
          "base_uri": "https://localhost:8080/",
          "height": 35
        }
      },
      "source": [
        "# predicted class labels\n",
        "y_test = np.argmax(y_pred,axis =-1)\n",
        "y_test"
      ],
      "execution_count": 165,
      "outputs": [
        {
          "output_type": "execute_result",
          "data": {
            "text/plain": [
              "array([0, 0, 0, 1, 0, 0, 1, 0, 1, 0, 1, 1, 1, 1, 1, 1])"
            ]
          },
          "metadata": {
            "tags": []
          },
          "execution_count": 165
        }
      ]
    },
    {
      "cell_type": "code",
      "metadata": {
        "id": "kRTzTTlNOdPD",
        "colab_type": "code",
        "colab": {
          "base_uri": "https://localhost:8080/",
          "height": 35
        },
        "outputId": "9d526594-0705-4707-ce25-c8cca4a0b7f1"
      },
      "source": [
        "# actual class labels\n",
        "y_actual = np.argmax(test_labels , axis=-1)\n",
        "y_actual"
      ],
      "execution_count": 177,
      "outputs": [
        {
          "output_type": "execute_result",
          "data": {
            "text/plain": [
              "array([0, 1, 1, 0, 1, 0, 1, 0, 0, 0, 1, 1, 0, 0, 1, 1])"
            ]
          },
          "metadata": {
            "tags": []
          },
          "execution_count": 177
        }
      ]
    },
    {
      "cell_type": "code",
      "metadata": {
        "id": "tfo01h8dr8QU",
        "colab_type": "code",
        "colab": {}
      },
      "source": [
        "from sklearn.metrics import confusion_matrix\n",
        "from mlxtend.plotting import plot_confusion_matrix"
      ],
      "execution_count": 0,
      "outputs": []
    },
    {
      "cell_type": "code",
      "metadata": {
        "id": "MoKIxU-noHLW",
        "colab_type": "code",
        "colab": {
          "base_uri": "https://localhost:8080/",
          "height": 304
        },
        "outputId": "b0bfc323-9389-4aa8-f5fc-bc19fc408d13"
      },
      "source": [
        "# Get the confusion matrix\n",
        "cm  = confusion_matrix(y_actual, y_test)\n",
        "plt.figure(figsize=(12,8))\n",
        "plot_confusion_matrix(cm, hide_ticks=True, cmap=plt.cm.Blues)\n",
        "plt.xticks(range(2), ['Normal', 'Pneumonia'], fontsize=12)\n",
        "plt.yticks(range(2), ['Normal', 'Pneumonia'], fontsize=12)\n",
        "plt.show()"
      ],
      "execution_count": 168,
      "outputs": [
        {
          "output_type": "display_data",
          "data": {
            "text/plain": [
              "<Figure size 864x576 with 0 Axes>"
            ]
          },
          "metadata": {
            "tags": []
          }
        },
        {
          "output_type": "display_data",
          "data": {
            "image/png": "[encoded data removed]",
            "text/plain": [
              "<Figure size 432x288 with 1 Axes>"
            ]
          },
          "metadata": {
            "tags": []
          }
        }
      ]
    },
    {
      "cell_type": "code",
      "metadata": {
        "id": "em9qabksDc4_",
        "colab_type": "code",
        "colab": {
          "base_uri": "https://localhost:8080/",
          "height": 52
        },
        "outputId": "525b5943-7ce6-4d85-8db2-0a51f239e2d2"
      },
      "source": [
        "# Calculate Precision and Recall\n",
        "tn, fp, fn, tp = cm.ravel()\n",
        "\n",
        "precision = tp/(tp+fp)\n",
        "recall = tp/(tp+fn)\n",
        "\n",
        "print(\"Recall of the model is {:.2f}\".format(recall))\n",
        "print(\"Precision of the model is {:.2f}\".format(precision))"
      ],
      "execution_count": 169,
      "outputs": [
        {
          "output_type": "stream",
          "text": [
            "Recall of the model is 0.62\n",
            "Precision of the model is 0.56\n"
          ],
          "name": "stdout"
        }
      ]
    },
    {
      "cell_type": "code",
      "metadata": {
        "id": "uXxa1A40EVpH",
        "colab_type": "code",
        "colab": {
          "base_uri": "https://localhost:8080/",
          "height": 173
        },
        "outputId": "60e7f53e-a9a6-4954-ad4c-8685bed5950b"
      },
      "source": [
        "from sklearn.metrics import classification_report\n",
        "print(classification_report(y_actual, y_test))"
      ],
      "execution_count": 179,
      "outputs": [
        {
          "output_type": "stream",
          "text": [
            "              precision    recall  f1-score   support\n",
            "\n",
            "           0       0.57      0.50      0.53         8\n",
            "           1       0.56      0.62      0.59         8\n",
            "\n",
            "    accuracy                           0.56        16\n",
            "   macro avg       0.56      0.56      0.56        16\n",
            "weighted avg       0.56      0.56      0.56        16\n",
            "\n"
          ],
          "name": "stdout"
        }
      ]
    },
    {
      "cell_type": "code",
      "metadata": {
        "id": "hVBgNBWHPDpC",
        "colab_type": "code",
        "colab": {}
      },
      "source": [
        ""
      ],
      "execution_count": 0,
      "outputs": []
    }
  ]
}